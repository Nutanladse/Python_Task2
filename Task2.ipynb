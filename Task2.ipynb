{
 "cells": [
  {
   "cell_type": "markdown",
   "id": "6c63e8db-0de0-486c-b534-81ccb0599bbd",
   "metadata": {},
   "source": [
    "# PYTHON STRING METHOD."
   ]
  },
  {
   "cell_type": "markdown",
   "id": "73085abe-c5cf-4745-b785-1e41628922fc",
   "metadata": {},
   "source": [
    "### 1.capitalize() Method.\n",
    "#### DEFINE : The capitalize() method returns a string where the first character is upper case, and the rest is lower case.\r",
    "#### SYNTAX : string.capitalize()\n",
    "\r\n"
   ]
  },
  {
   "cell_type": "code",
   "execution_count": 55,
   "id": "ffb944c2-41f1-4871-8543-c721f67f4363",
   "metadata": {},
   "outputs": [
    {
     "name": "stdout",
     "output_type": "stream",
     "text": [
      "Hello everyone,i am xyz.\n"
     ]
    }
   ],
   "source": [
    "# Example1:-\n",
    "text = \"hello Everyone,I am XYZ.\"\n",
    "X = text.capitalize()\n",
    "print(X)"
   ]
  },
  {
   "cell_type": "code",
   "execution_count": 43,
   "id": "8fa2a4e7-d9ba-4eb4-bbd6-3c1b2f7687d8",
   "metadata": {},
   "outputs": [
    {
     "name": "stdout",
     "output_type": "stream",
     "text": [
      "Python progamming!\n"
     ]
    }
   ],
   "source": [
    "# Example2:-\n",
    "text = \"python Progamming!\"\n",
    "X = text.capitalize()\n",
    "print(X)\n"
   ]
  },
  {
   "cell_type": "markdown",
   "id": "fb1cb93b-a087-4d4c-a8d1-a2e3e6ff6370",
   "metadata": {},
   "source": [
    "### 2.casefold() Method.\n",
    "#### DEFINE : The casefold() method returns a string where all the characters are lower case.\n",
    "#### SYNTAX : string.casefold()"
   ]
  },
  {
   "cell_type": "code",
   "execution_count": 78,
   "id": "baa56fa5-13f4-417c-bd89-fad69fb82141",
   "metadata": {},
   "outputs": [
    {
     "name": "stdout",
     "output_type": "stream",
     "text": [
      "hello everyone,i am xyz.\n"
     ]
    }
   ],
   "source": [
    "# Example1:-\n",
    "text = \"hello Everyone,I am XYZ.\"\n",
    "X = text.casefold()\n",
    "print(X)"
   ]
  },
  {
   "cell_type": "code",
   "execution_count": 62,
   "id": "eefaa2d6-dffb-4afb-adb1-fad144f3421d",
   "metadata": {},
   "outputs": [
    {
     "name": "stdout",
     "output_type": "stream",
     "text": [
      "python progamming!\n"
     ]
    }
   ],
   "source": [
    "# Example2:-\n",
    "text = \"python Progamming!\"\n",
    "X = text.casefold()\n",
    "print(X)"
   ]
  },
  {
   "cell_type": "markdown",
   "id": "4f11678e-fb5b-4b7f-a254-89c6e1d4fa28",
   "metadata": {},
   "source": [
    "### 2.center() Method.\n",
    "#### DEFINE : The center() method will center align the string, using a specified character (space is default) as the fill character.\r\n",
    "\n",
    "#### SYNTAX : string.casefold()"
   ]
  },
  {
   "cell_type": "code",
   "execution_count": 88,
   "id": "6a9c094c-cd4d-4dfb-bbf3-090d825dd6e8",
   "metadata": {},
   "outputs": [
    {
     "name": "stdout",
     "output_type": "stream",
     "text": [
      "OOOOOOOOOOOOOOOOOOOOOOOOOOOOOOOOOOOOOOhello Everyone,I am XYZOOOOOOOOOOOOOOOOOOOOOOOOOOOOOOOOOOOOOOO\n"
     ]
    }
   ],
   "source": [
    "# Example1:-\n",
    "text = \"hello Everyone,I am XYZ\"\n",
    "X = text.center(100,'O')\n",
    "print(X)"
   ]
  },
  {
   "cell_type": "code",
   "execution_count": 96,
   "id": "ef7d5128-785c-48e3-9f80-388cadd33fce",
   "metadata": {},
   "outputs": [
    {
     "name": "stdout",
     "output_type": "stream",
     "text": [
      "!!!!!!!!!!!python Progamming!!!!!!!!!!!!\n"
     ]
    }
   ],
   "source": [
    "# Example2:-\n",
    "text = \"python Progamming\"\n",
    "X = text.center(40,'!')\n",
    "print(X)"
   ]
  },
  {
   "cell_type": "markdown",
   "id": "22f664e1-1224-4112-ac77-334a00a2e584",
   "metadata": {},
   "source": [
    "### 4.count() Method.\n",
    "#### DEFINE : The count() method returns the number of times a specified value appears in the string.\n",
    "#### SYNTAX : string.count(value, start, end)\n"
   ]
  },
  {
   "cell_type": "code",
   "execution_count": 136,
   "id": "b74178c1-933f-4000-8049-dc34c6025f90",
   "metadata": {},
   "outputs": [
    {
     "name": "stdout",
     "output_type": "stream",
     "text": [
      "2\n"
     ]
    }
   ],
   "source": [
    "# Example1:-\n",
    "txt = \"I love mango, mango are my favorite fruit\"\n",
    "x = txt.count(\"mango\")\n",
    "print(x)"
   ]
  },
  {
   "cell_type": "code",
   "execution_count": 144,
   "id": "d5aac928-30f6-4138-afd7-1f42b37146c3",
   "metadata": {},
   "outputs": [
    {
     "name": "stdout",
     "output_type": "stream",
     "text": [
      "2\n"
     ]
    }
   ],
   "source": [
    "# Example1\n",
    "txt = \"I love mango, mango are my favorite fruit\"\n",
    "x = txt.count(\"mango\",10,24)\n",
    "print(x)"
   ]
  },
  {
   "cell_type": "markdown",
   "id": "e7c54f7a-420f-4ca8-b403-fb8d177f80de",
   "metadata": {},
   "source": [
    "### 5.endswith() Method.\n",
    "#### DEFINE : The endswith() method returns True if the string ends with the specified value, otherwise False.\n",
    "#### SYNTAX : string.endswith(value, start, end)"
   ]
  },
  {
   "cell_type": "code",
   "execution_count": 164,
   "id": "8be56d84-e40c-4e01-8b75-9a3e7e801345",
   "metadata": {},
   "outputs": [
    {
     "name": "stdout",
     "output_type": "stream",
     "text": [
      "False\n"
     ]
    }
   ],
   "source": [
    "# Example1:-\n",
    "text = \"hello Everyone,I am XYZ.\"\n",
    "X = text.endswith(\".\") \n",
    "print(X)"
   ]
  },
  {
   "cell_type": "code",
   "execution_count": 166,
   "id": "d545dc82-c7fa-4a9e-9622-ad09e9e40ba2",
   "metadata": {},
   "outputs": [
    {
     "name": "stdout",
     "output_type": "stream",
     "text": [
      "True\n"
     ]
    }
   ],
   "source": [
    "# Example2:-\n",
    "text = \"python Progamming!\"\n",
    "X = text.endswith(\"!\") \n",
    "print(X)\n"
   ]
  },
  {
   "cell_type": "markdown",
   "id": "9d66aaf4-89e4-4406-bc88-c33bed3c9125",
   "metadata": {},
   "source": [
    "### 6.expandtabs() Method\n",
    "#### DEFINE : The expandtabs() method sets the tab size to the specified number of whitespaces.\n",
    "#### SYNTAX : string.expandtabs(tabsize)"
   ]
  },
  {
   "cell_type": "code",
   "execution_count": 215,
   "id": "320b7c93-a66f-43e1-bf4d-639ec0b70edd",
   "metadata": {},
   "outputs": [
    {
     "name": "stdout",
     "output_type": "stream",
     "text": [
      "hello                                                                                                                                                                                                                                                                                                                                                                                                                                                                                                                                                                                                                                                                                                                                                                                                                                                                                                                                                                                                                                   Everyone,                                                                                                                                                                                                                                                                                                                                                                                                                                                                                                                                                                                                                                                                                                                                                                                                                                                                                                                                                                                                                               I am XYZ.\n"
     ]
    }
   ],
   "source": [
    "# Example1:-\n",
    "text = \"hello\\tEveryone,\\tI am XYZ.\"\n",
    "X = text.expandtabs(1000) \n",
    "print(X)"
   ]
  },
  {
   "cell_type": "code",
   "execution_count": 203,
   "id": "0e93f6df-7c73-409b-b860-e9d9cadf27b1",
   "metadata": {},
   "outputs": [
    {
     "name": "stdout",
     "output_type": "stream",
     "text": [
      "W\te\tl\tc\to\tm\te\n",
      "W       e       l       c       o       m       e\n",
      "W   e   l   c   o   m   e\n",
      "W     e     l     c     o     m     e\n",
      "W           e           l           c           o           m           e\n"
     ]
    }
   ],
   "source": [
    "text = \"W\\te\\tl\\tc\\to\\tm\\te\"\n",
    "print(text)\n",
    "print(text.expandtabs())\n",
    "print(text.expandtabs(4))\n",
    "print(text.expandtabs(6))\n",
    "print(text.expandtabs(12))\n"
   ]
  },
  {
   "cell_type": "markdown",
   "id": "db4be25a-d568-406c-8b56-bf5568ee534e",
   "metadata": {},
   "source": [
    "### 7.find() Method\n",
    "#### DEFINE : The find() method finds the first occurrence of the specified value and returns -1 if the value is not found.\n",
    "#### SYNTAX : string.find(value, start, end)\n"
   ]
  },
  {
   "cell_type": "code",
   "execution_count": 269,
   "id": "cf6979ab-334b-4ae9-b1e6-3d158d3f3087",
   "metadata": {},
   "outputs": [
    {
     "name": "stdout",
     "output_type": "stream",
     "text": [
      "10\n"
     ]
    }
   ],
   "source": [
    "# Example1:-\n",
    "text = \"hello Everyone,I am XYZ.\"\n",
    "X = text.find('y',4,12)\n",
    "print(X)"
   ]
  },
  {
   "cell_type": "code",
   "execution_count": 273,
   "id": "aceb9bcc-87f6-4f62-8a09-e47daaaa5ad5",
   "metadata": {},
   "outputs": [
    {
     "name": "stdout",
     "output_type": "stream",
     "text": [
      "-1\n"
     ]
    }
   ],
   "source": [
    "# Example2:-\n",
    "text = \"python Progamming!\"\n",
    "X = text.find('b')\n",
    "print(X)\n"
   ]
  },
  {
   "cell_type": "code",
   "execution_count": 275,
   "id": "0c039415-9466-4286-9373-ea9acbe05905",
   "metadata": {},
   "outputs": [
    {
     "name": "stdout",
     "output_type": "stream",
     "text": [
      "11\n"
     ]
    }
   ],
   "source": [
    "# Example3:-\n",
    "text = \"python Progamming!\"\n",
    "X = text.find('a')\n",
    "print(X)\n"
   ]
  },
  {
   "cell_type": "markdown",
   "id": "514d4581-d1a5-429a-b4e4-250c159b489f",
   "metadata": {},
   "source": [
    "### 8.index() Method\n",
    "#### DEFINE :The index() method is almost the same as the find() method, the only difference is that the find() method returns -1 if the value is not found. \n",
    "#### SYNTAX : string.find(value, start, end)\n"
   ]
  },
  {
   "cell_type": "code",
   "execution_count": 294,
   "id": "1fefe9c5-4628-498d-833a-bdcc76c60904",
   "metadata": {},
   "outputs": [
    {
     "name": "stdout",
     "output_type": "stream",
     "text": [
      "17\n"
     ]
    }
   ],
   "source": [
    "# Example1:-\n",
    "text = \"hello Everyone,I am XYZ.\"\n",
    "X = text.index(\"am\")\n",
    "print(X)"
   ]
  },
  {
   "cell_type": "code",
   "execution_count": 296,
   "id": "15cd07df-7abf-48a0-9da7-8d3c5a6fca59",
   "metadata": {},
   "outputs": [
    {
     "name": "stdout",
     "output_type": "stream",
     "text": [
      "7\n"
     ]
    }
   ],
   "source": [
    "# Example2:-\n",
    "txt = \"I love mango, mango are my favorite fruit\"\n",
    "x = txt.index(\"mango\")\n",
    "print(x)"
   ]
  },
  {
   "cell_type": "markdown",
   "id": "5eb15c52-6764-4bd3-81ad-a5f1367200c1",
   "metadata": {},
   "source": [
    "### 9.isalnum()  Method\n",
    "#### DEFINE: The isalnum() method returns True if all the characters are alphanumeric, meaning alphabet letter (a-z) and numbers (0-9),Example of characters that are not alphanumeric: (space)!#%&? etc.\n",
    "#### SYNTAX : string.isalnum()"
   ]
  },
  {
   "cell_type": "code",
   "execution_count": 298,
   "id": "e4944f90-c576-4dbe-8b29-96c5a6fc05ba",
   "metadata": {},
   "outputs": [
    {
     "name": "stdout",
     "output_type": "stream",
     "text": [
      "False\n"
     ]
    }
   ],
   "source": [
    "# Example1:-\n",
    "text = \"hello Everyone,I am XYZ.\"\n",
    "X = text.isalnum()\n",
    "print(X)"
   ]
  },
  {
   "cell_type": "code",
   "execution_count": 318,
   "id": "59442991-7db1-4fbd-909b-4557247e3f30",
   "metadata": {},
   "outputs": [
    {
     "name": "stdout",
     "output_type": "stream",
     "text": [
      "False\n"
     ]
    }
   ],
   "source": [
    "# Example2:-\n",
    "txt = \"@nutan\"\n",
    "x = txt.isalnum()\n",
    "print(x)\n"
   ]
  },
  {
   "cell_type": "markdown",
   "id": "ec76c558-b98d-48ce-a062-c23a78c25f44",
   "metadata": {},
   "source": [
    "### 10.isalpha()  Method\n",
    "#### DEFINE: The isalpha() method returns True if all the characters are alphabet letters (a-z).\n",
    "#### SYNTAX : string.isalpha()"
   ]
  },
  {
   "cell_type": "code",
   "execution_count": 330,
   "id": "589e385c-f24b-4586-b7ef-16ecb807a2d4",
   "metadata": {},
   "outputs": [
    {
     "name": "stdout",
     "output_type": "stream",
     "text": [
      "False\n"
     ]
    }
   ],
   "source": [
    "# Example1:-\n",
    "text = \"hello_Everyone\"\n",
    "X = text.isalpha()\n",
    "print(X)"
   ]
  },
  {
   "cell_type": "code",
   "execution_count": 336,
   "id": "b617851e-2a73-48e5-b2d2-4e15e7678b20",
   "metadata": {},
   "outputs": [
    {
     "name": "stdout",
     "output_type": "stream",
     "text": [
      "True\n"
     ]
    }
   ],
   "source": [
    "# Example2:-\n",
    "txt = \"HelloEveryone\"\n",
    "x = txt.isalpha()\n",
    "print(x)"
   ]
  },
  {
   "cell_type": "code",
   "execution_count": 338,
   "id": "5e4a3b95-be5c-45c2-acd4-12c8eb8445bb",
   "metadata": {},
   "outputs": [
    {
     "name": "stdout",
     "output_type": "stream",
     "text": [
      "False\n"
     ]
    }
   ],
   "source": [
    "# Example3:-\n",
    "txt = \"@nutan\"\n",
    "x = txt.isalpha()\n",
    "print(x)\n"
   ]
  },
  {
   "cell_type": "markdown",
   "id": "423dc343-ee27-479d-bf5e-b81347750395",
   "metadata": {},
   "source": [
    "### 11.isascii() Method\n",
    "#### DEFINE: The isascii() method returns True if all the characters are ascii characters  (a-z).\n",
    "#### SYNTAX : string.isascii()\n"
   ]
  },
  {
   "cell_type": "code",
   "execution_count": 340,
   "id": "cbf9e093-cbe5-4116-a6f3-9ef326f2f827",
   "metadata": {},
   "outputs": [
    {
     "name": "stdout",
     "output_type": "stream",
     "text": [
      "True\n"
     ]
    }
   ],
   "source": [
    "# Example1:-\n",
    "text = \"hello_Everyone\"\n",
    "X = text.isascii()\n",
    "print(X)"
   ]
  },
  {
   "cell_type": "code",
   "execution_count": 342,
   "id": "75da1b8f-bf10-4e73-b0bb-9fba63146c26",
   "metadata": {},
   "outputs": [
    {
     "name": "stdout",
     "output_type": "stream",
     "text": [
      "False\n"
     ]
    }
   ],
   "source": [
    "# Example2:-\n",
    "txt = \"@nutan\"\n",
    "# x = txt.isascii()\n",
    "print(x)\n"
   ]
  },
  {
   "cell_type": "markdown",
   "id": "ac5ceae6-9413-445d-b596-e99d393b783e",
   "metadata": {},
   "source": [
    "### 12.isdecimal() Method\n",
    "#### DEFINE: The isdecimal() method returns True if all the characters are decimals (0-9).\n",
    "#### SYNTAX : string.isdecimal()\n"
   ]
  },
  {
   "cell_type": "code",
   "execution_count": 89,
   "id": "266e671e-95f5-4801-ba27-38a52ef05763",
   "metadata": {},
   "outputs": [
    {
     "name": "stdout",
     "output_type": "stream",
     "text": [
      "False\n"
     ]
    }
   ],
   "source": [
    "# Example1:-\n",
    "text = \"hello_Everyone\"\n",
    "X = text.isdecimal()\n",
    "print(X)"
   ]
  },
  {
   "cell_type": "code",
   "execution_count": 368,
   "id": "9b43e970-8706-494b-ab10-839d907c3b44",
   "metadata": {},
   "outputs": [
    {
     "name": "stdout",
     "output_type": "stream",
     "text": [
      "True\n"
     ]
    }
   ],
   "source": [
    "# Example2:-\n",
    "text = \"123452\"\n",
    "X = text.isdecimal()\n",
    "print(X)"
   ]
  },
  {
   "cell_type": "markdown",
   "id": "c16237b1-4501-4645-b059-4e39b2da3082",
   "metadata": {},
   "source": [
    "### 13.isdigit() Method\n",
    "#### DEFINE: The isdigit() method returns True if all the characters are digits, otherwise False.\n",
    "#### SYNTAX : string.isdigit() \n"
   ]
  },
  {
   "cell_type": "code",
   "execution_count": 352,
   "id": "fd77a529-1466-4907-860a-eabca1d6b509",
   "metadata": {},
   "outputs": [
    {
     "name": "stdout",
     "output_type": "stream",
     "text": [
      "False\n"
     ]
    }
   ],
   "source": [
    "# Example1:-\n",
    "text = \"hello_Everyone\"\n",
    "X = text.isdigit()\n",
    "print(X)"
   ]
  },
  {
   "cell_type": "code",
   "execution_count": 370,
   "id": "0fbc6a0b-39c9-4463-889a-c93a3aa41170",
   "metadata": {},
   "outputs": [
    {
     "name": "stdout",
     "output_type": "stream",
     "text": [
      "True\n"
     ]
    }
   ],
   "source": [
    "# Example2:-\n",
    "text = \"1345\"\n",
    "X = text.isdecimal()\n",
    "print(X)"
   ]
  },
  {
   "cell_type": "markdown",
   "id": "7b893cef-be94-40f5-baa3-17b7219a27e2",
   "metadata": {},
   "source": [
    "### 14.isidentifier() Method\n",
    "#### DEFINE: The isidentifier() method returns True if the string is a valid identifier, otherwise False.\n",
    "#### SYNTAX : string.isidentifier() "
   ]
  },
  {
   "cell_type": "code",
   "execution_count": 372,
   "id": "e77c6ca0-0ea2-4d85-8455-8d1fa254303b",
   "metadata": {},
   "outputs": [
    {
     "name": "stdout",
     "output_type": "stream",
     "text": [
      "True\n"
     ]
    }
   ],
   "source": [
    "# Example1:-\n",
    "text = \"hello_Everyone\"\n",
    "X = text.isidentifier()\n",
    "print(X)"
   ]
  },
  {
   "cell_type": "code",
   "execution_count": 374,
   "id": "207d4f3a-c2f0-4236-ace4-e4e30a2cb999",
   "metadata": {},
   "outputs": [
    {
     "name": "stdout",
     "output_type": "stream",
     "text": [
      "False\n"
     ]
    }
   ],
   "source": [
    "# Example2:-\n",
    "text = \"@nutan\"\n",
    "# x = text.isidentifier()\n",
    "print(x)"
   ]
  },
  {
   "cell_type": "markdown",
   "id": "e856df47-3afa-46d7-99e8-9549d166d791",
   "metadata": {},
   "source": [
    "### 15.islower() Method\n",
    "#### DEFINE: The islower() method returns True if all the characters are in lower case, otherwise False.\n",
    "#### SYNTAX : string.islower() "
   ]
  },
  {
   "cell_type": "code",
   "execution_count": 382,
   "id": "b5fb0a6c-54cd-4ae0-8f76-56e5e94036a3",
   "metadata": {},
   "outputs": [
    {
     "name": "stdout",
     "output_type": "stream",
     "text": [
      "True\n"
     ]
    }
   ],
   "source": [
    "# Example1:-\n",
    "text = \"hello everyone\"\n",
    "X = text.islower()\n",
    "print(X)"
   ]
  },
  {
   "cell_type": "code",
   "execution_count": 384,
   "id": "2750cb2c-f08e-43ac-b3f1-990d5e8c81ca",
   "metadata": {},
   "outputs": [
    {
     "name": "stdout",
     "output_type": "stream",
     "text": [
      "False\n"
     ]
    }
   ],
   "source": [
    "# Example2:-\n",
    "text = \"Nutan\"\n",
    "x = text.isidentifier()\n",
    "print(x)"
   ]
  },
  {
   "cell_type": "markdown",
   "id": "f13d9d16-f25d-4ccc-a5c5-31a3b8895c6d",
   "metadata": {},
   "source": [
    "### 16.isnumeric() Method\n",
    "#### DEFINE: The isnumeric() method returns True if all the characters are numeric (0-9), otherwise False,Exponents, like ² and ¾ are also considered to be numeric values.\"-1\" and \"1.5\" are NOT considered numeric values, because all the characters in the string must be numeric, and the - and the . are not.\n",
    "#### SYNTAX : string.isnumeric() "
   ]
  },
  {
   "cell_type": "code",
   "execution_count": 392,
   "id": "0b9b599e-8173-40df-8938-0f14ced01fd2",
   "metadata": {},
   "outputs": [
    {
     "name": "stdout",
     "output_type": "stream",
     "text": [
      "True\n"
     ]
    }
   ],
   "source": [
    "# Example1:-\n",
    "text = \"43\"\n",
    "x = text.isnumeric()\n",
    "print(x)"
   ]
  },
  {
   "cell_type": "code",
   "execution_count": 396,
   "id": "91da9fe7-1151-4797-84d4-20bb72d76d67",
   "metadata": {},
   "outputs": [
    {
     "name": "stdout",
     "output_type": "stream",
     "text": [
      "False\n"
     ]
    }
   ],
   "source": [
    "# Example2:-\n",
    "text = \"5.5\"\n",
    "x = text.isnumeric()\n",
    "print(x)\n"
   ]
  },
  {
   "cell_type": "markdown",
   "id": "350993b9-2142-4814-bc14-f87e4c44dd48",
   "metadata": {},
   "source": [
    "### 17.isspce() Method\n",
    "#### DEFINE: The isspace() method returns True if all the characters in a string are whitespaces, otherwise False.\n",
    "#### SYNTAX : string.isspace() "
   ]
  },
  {
   "cell_type": "code",
   "execution_count": 425,
   "id": "a65ea1e6-556d-46a1-bff5-018fb7373033",
   "metadata": {},
   "outputs": [
    {
     "name": "stdout",
     "output_type": "stream",
     "text": [
      "False\n"
     ]
    }
   ],
   "source": [
    "# Example1:-\n",
    "text = \"hello\"\n",
    "x = text.isspace()\n",
    "print(x)"
   ]
  },
  {
   "cell_type": "code",
   "execution_count": 429,
   "id": "abb69779-bbe9-41ce-986e-a3172db5c6a9",
   "metadata": {},
   "outputs": [
    {
     "name": "stdout",
     "output_type": "stream",
     "text": [
      "True\n"
     ]
    }
   ],
   "source": [
    "# Example2:-\n",
    "text = \"  \"\n",
    "x = text.isspace()\n",
    "print(x)"
   ]
  },
  {
   "cell_type": "markdown",
   "id": "8237d238-3fd9-458b-8812-2b1ea5189cd9",
   "metadata": {},
   "source": [
    "### 18.isprintable()Method\n",
    "#### DEFINE: The isprintable() method returns True if all the characters are printable, otherwise False.\n",
    "#### SYNTAX : string.isprintable()"
   ]
  },
  {
   "cell_type": "code",
   "execution_count": 433,
   "id": "f0d63f01-dbb4-4628-a631-e19bdaf6f51c",
   "metadata": {},
   "outputs": [
    {
     "name": "stdout",
     "output_type": "stream",
     "text": [
      "True\n"
     ]
    }
   ],
   "source": [
    "# Example1:-\n",
    "text = \"Hello Everyone!#1?\"\n",
    "X = text.isprintable()\n",
    "print(X)"
   ]
  },
  {
   "cell_type": "code",
   "execution_count": 441,
   "id": "5102db55-2a15-442f-9107-3af0dbf1f4e9",
   "metadata": {},
   "outputs": [
    {
     "name": "stdout",
     "output_type": "stream",
     "text": [
      "True\n"
     ]
    }
   ],
   "source": [
    "# Example1:-\n",
    "text = \" Hello \"\n",
    "X = text.isprintable()\n",
    "print(X)"
   ]
  },
  {
   "cell_type": "markdown",
   "id": "0a76161a-c0f3-4cd5-92e9-7ff9bb10bd8e",
   "metadata": {},
   "source": [
    "### 19.istitle()Method\n",
    "#### DEFINE: The istitle() method returns True if all words in a text start with a upper case letter, AND the rest of the word are lower case letters, otherwise False.\n",
    "#### SYNTAX : string.istitle()"
   ]
  },
  {
   "cell_type": "code",
   "execution_count": 461,
   "id": "77ed74d5-7e9b-42f2-92d2-15cae005b618",
   "metadata": {},
   "outputs": [
    {
     "name": "stdout",
     "output_type": "stream",
     "text": [
      "True\n"
     ]
    }
   ],
   "source": [
    "# Example1:-\n",
    "text = \"Hello Everyone, I Am Xyz!\"\n",
    "\n",
    "X = text.istitle()\n",
    "print(X)"
   ]
  },
  {
   "cell_type": "code",
   "execution_count": 463,
   "id": "9810406e-071f-41ce-99bb-fb6297eb3425",
   "metadata": {},
   "outputs": [
    {
     "name": "stdout",
     "output_type": "stream",
     "text": [
      "False\n"
     ]
    }
   ],
   "source": [
    "# Example2:-\n",
    "text = \"Hello Everyone, I Am XYZ!\"\n",
    "X = text.istitle()\n",
    "print(X)"
   ]
  },
  {
   "cell_type": "markdown",
   "id": "a4f70f5a-a095-4361-a6c0-ce2e8d53775d",
   "metadata": {},
   "source": [
    "### 20.isupper() Method\n",
    "#### DEFINE: The isupper() method returns True if all the characters are in upper case, otherwise False,Numbers, symbols and spaces are not checked, only alphabet characters.\n",
    "#### SYNTAX : string.isupper()"
   ]
  },
  {
   "cell_type": "code",
   "execution_count": 467,
   "id": "b85ededd-76f7-41ef-b9b5-e3fc35385d5b",
   "metadata": {},
   "outputs": [
    {
     "name": "stdout",
     "output_type": "stream",
     "text": [
      "False\n"
     ]
    }
   ],
   "source": [
    "# Example1:-\n",
    "text = \"Hello Everyone, I Am Xyz!\"\n",
    "X = text.isupper()\n",
    "print(X)"
   ]
  },
  {
   "cell_type": "code",
   "execution_count": 481,
   "id": "958365d1-aa8e-4a07-ba79-c4ced2ecb10b",
   "metadata": {},
   "outputs": [
    {
     "name": "stdout",
     "output_type": "stream",
     "text": [
      "True\n"
     ]
    }
   ],
   "source": [
    "# Example2:-\n",
    "text = \"HELLO EVERYONE!\"\n",
    "X = text.isupper()\n",
    "print(X)"
   ]
  },
  {
   "cell_type": "markdown",
   "id": "c2106f7d-c038-48ea-abc4-564985794e23",
   "metadata": {},
   "source": [
    "### 21.partition() Method\n",
    "#### DEFINE: The partition() method searches for a specified string, and splits the string into a tuple containing three elements.\n",
    "* The first element contains the part before the specified string.\n",
    "* The second element contains the specified string.\n",
    "* The third element contains the part after the string.\n",
    "#### SYNTAX : string.partition()"
   ]
  },
  {
   "cell_type": "code",
   "execution_count": 11,
   "id": "37a37674-abe9-42ab-a19c-687a2748427b",
   "metadata": {},
   "outputs": [
    {
     "name": "stdout",
     "output_type": "stream",
     "text": [
      "('Hello Everyone, I ', 'Am', ' Xyz!')\n"
     ]
    }
   ],
   "source": [
    "# Example1:-\n",
    "text = \"Hello Everyone, I Am Xyz!\"\n",
    "X = text.partition(\"Am\")\n",
    "print(X)"
   ]
  },
  {
   "cell_type": "code",
   "execution_count": 13,
   "id": "4744fbe0-aeaa-4831-bc3a-f9dc5f4e3e82",
   "metadata": {},
   "outputs": [
    {
     "name": "stdout",
     "output_type": "stream",
     "text": [
      "('HELLO ', 'EVERYONE', '!')\n"
     ]
    }
   ],
   "source": [
    "# Example2:-\n",
    "text = \"HELLO EVERYONE!\"\n",
    "X = text.partition(\"EVERYONE\")\n",
    "print(X)"
   ]
  },
  {
   "cell_type": "markdown",
   "id": "d11e985d-fdf9-4b02-8785-9712116aefa8",
   "metadata": {},
   "source": [
    "### 22.zfill() Method\n",
    "#### DEFINE: The zfill() method adds zeros (0) at the beginning of the string, until it reaches the specified length,If the value of the len parameter is less than the length of the string, no filling is done.\n",
    "#### SYNTAX : string.zfill(len)"
   ]
  },
  {
   "cell_type": "code",
   "execution_count": 21,
   "id": "448927c7-9106-4ce3-8105-17f9456ca4b9",
   "metadata": {},
   "outputs": [
    {
     "name": "stdout",
     "output_type": "stream",
     "text": [
      "000000000000000000000000000000000000000000000000000000000000000000000000000Hello Everyone, I Am Xyz!\n"
     ]
    }
   ],
   "source": [
    "# Example1:-\n",
    "text = \"Hello Everyone, I Am Xyz!\"\n",
    "X = text.zfill(100)\n",
    "print(X)"
   ]
  },
  {
   "cell_type": "code",
   "execution_count": 25,
   "id": "40dd1acd-6de1-4387-ae11-c3ed6a9b3217",
   "metadata": {},
   "outputs": [
    {
     "name": "stdout",
     "output_type": "stream",
     "text": [
      "00000000000000000000000000000000000HELLO EVERYONE!\n"
     ]
    }
   ],
   "source": [
    "# Example2:-\n",
    "text = \"HELLO EVERYONE!\"\n",
    "X = text.zfill(50)\n",
    "print(X)"
   ]
  },
  {
   "cell_type": "markdown",
   "id": "3725210e-6b71-4661-8bdc-f5d5a2aebdd2",
   "metadata": {},
   "source": [
    "### 23.swapcase() Method\n",
    "#### DEFINE: The swapcase() method returns a string where all the upper case letters are lower case and vice versa.\n",
    "#### SYNTAX : string.swapcase()"
   ]
  },
  {
   "cell_type": "code",
   "execution_count": 29,
   "id": "ac97692d-76a1-4d3d-bfb5-8dd1e2f17e44",
   "metadata": {},
   "outputs": [
    {
     "name": "stdout",
     "output_type": "stream",
     "text": [
      "HELLO EVERYONE, I AM XYZ!\n"
     ]
    }
   ],
   "source": [
    "# Example1:-\n",
    "text = \"hello everyone, i am xyz!\"\n",
    "X = text.swapcase()\n",
    "print(X)"
   ]
  },
  {
   "cell_type": "code",
   "execution_count": 31,
   "id": "7ac13e7b-9413-40a1-bd12-c927e3295879",
   "metadata": {},
   "outputs": [
    {
     "name": "stdout",
     "output_type": "stream",
     "text": [
      "hello everyone!\n"
     ]
    }
   ],
   "source": [
    "# Example2:-\n",
    "text = \"HELLO EVERYONE!\"\n",
    "X = text.swapcase()\n",
    "print(X)"
   ]
  },
  {
   "cell_type": "markdown",
   "id": "5b5da592-a28c-486a-b323-21898602d474",
   "metadata": {},
   "source": [
    "### 24.split() Method\n",
    "#### DEFINE: The split() method splits a string into a list.\n",
    "#### SYNTAX : string.split(separator, maxsplit)"
   ]
  },
  {
   "cell_type": "code",
   "execution_count": 47,
   "id": "bf2c9f49-c64e-4979-bc54-2f8dd6584f75",
   "metadata": {},
   "outputs": [
    {
     "name": "stdout",
     "output_type": "stream",
     "text": [
      "['Hello Everyone', 'I Am Xyz!']\n"
     ]
    }
   ],
   "source": [
    "Example1:-\n",
    "text = \"Hello Everyone, I Am Xyz!\"\n",
    "x = text.split(\", \")\n",
    "print(x)\n"
   ]
  },
  {
   "cell_type": "code",
   "execution_count": 51,
   "id": "7b9f09ac-f8ab-4184-b331-142569d1b865",
   "metadata": {},
   "outputs": [
    {
     "name": "stdout",
     "output_type": "stream",
     "text": [
      "['Pink', 'Orange', 'Pink', 'Blue', 'Purple']\n"
     ]
    }
   ],
   "source": [
    "Example2:-\n",
    "text = \"Pink#Orange#Pink#Blue#Purple\"\n",
    "x = text.split(\"#\")\n",
    "print(x)\n"
   ]
  },
  {
   "cell_type": "markdown",
   "id": "5b1eebd9-66bf-4416-ab48-d8410d2e87b4",
   "metadata": {},
   "source": [
    "### 25.startswith() Method\n",
    "#### DEFINE: The startswith() method returns True if the string starts with the specified value, otherwise False.\n",
    "#### SYNTAX : string.startswith(value, start, end)"
   ]
  },
  {
   "cell_type": "code",
   "execution_count": 63,
   "id": "5c892e27-e9e3-480c-89ca-085d22d358d5",
   "metadata": {},
   "outputs": [
    {
     "name": "stdout",
     "output_type": "stream",
     "text": [
      "True\n"
     ]
    }
   ],
   "source": [
    "#Example1:-\n",
    "text = \"Hello Everyone, I Am Xyz!\"\n",
    "x = text.startswith(\"I\",16,20)\n",
    "print(x)\n"
   ]
  },
  {
   "cell_type": "code",
   "execution_count": 75,
   "id": "3bc49517-4d51-4b76-b8da-6d3ae9f3e8db",
   "metadata": {},
   "outputs": [
    {
     "name": "stdout",
     "output_type": "stream",
     "text": [
      "False\n"
     ]
    }
   ],
   "source": [
    "#Example1:-\n",
    "text = \"Hello Everyone, I Am Xyz!\"\n",
    "x = text.startswith(\"H\",10,20)\n",
    "print(x)\n"
   ]
  }
 ],
 "metadata": {
  "kernelspec": {
   "display_name": "Python 3 (ipykernel)",
   "language": "python",
   "name": "python3"
  },
  "language_info": {
   "codemirror_mode": {
    "name": "ipython",
    "version": 3
   },
   "file_extension": ".py",
   "mimetype": "text/x-python",
   "name": "python",
   "nbconvert_exporter": "python",
   "pygments_lexer": "ipython3",
   "version": "3.12.4"
  }
 },
 "nbformat": 4,
 "nbformat_minor": 5
}
